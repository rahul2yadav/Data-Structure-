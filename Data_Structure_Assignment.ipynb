{
  "nbformat": 4,
  "nbformat_minor": 0,
  "metadata": {
    "colab": {
      "provenance": []
    },
    "kernelspec": {
      "name": "python3",
      "display_name": "Python 3"
    },
    "language_info": {
      "name": "python"
    }
  },
  "cells": [
    {
      "cell_type": "markdown",
      "source": [
        " # Assignment"
      ],
      "metadata": {
        "id": "cMKRpSHD8vtA"
      }
    },
    {
      "cell_type": "markdown",
      "source": [
        "1. What are data structures, and why are they important?\n",
        "\n",
        "-    Data structures are ways of organizing and storing data in a computer so it can be used efficiently. They’re important because they enable optimized data access, manipulation, and storage.\n",
        "\n"
      ],
      "metadata": {
        "id": "NCb73Ht91jOO"
      }
    },
    {
      "cell_type": "markdown",
      "source": [
        "2. Explain the difference between mutable and immutable data types with examples:\n",
        "\n",
        "    - Mutable: Can be changed after creation. Example: list, dict, set.\n",
        "    - Immutable: Cannot be changed after creation. Example: int, str, tuple\n",
        "\n"
      ],
      "metadata": {
        "id": "CGOyRodA1dEH"
      }
    },
    {
      "cell_type": "code",
      "source": [
        "#example of muatable\n",
        "a = [1, 2]\n",
        "a.append(3)\n",
        "\n",
        "#example of immutable\n",
        "s = \"hello\"\n",
        "s[0] = \"H\"\n",
        "\n"
      ],
      "metadata": {
        "colab": {
          "base_uri": "https://localhost:8080/",
          "height": 193
        },
        "id": "-j9ruPQQ2McI",
        "outputId": "efd5fc60-1800-430c-c0bc-6e5de944ba66"
      },
      "execution_count": 2,
      "outputs": [
        {
          "output_type": "error",
          "ename": "TypeError",
          "evalue": "'str' object does not support item assignment",
          "traceback": [
            "\u001b[0;31m---------------------------------------------------------------------------\u001b[0m",
            "\u001b[0;31mTypeError\u001b[0m                                 Traceback (most recent call last)",
            "\u001b[0;32m<ipython-input-2-19442655>\u001b[0m in \u001b[0;36m<cell line: 0>\u001b[0;34m()\u001b[0m\n\u001b[1;32m      5\u001b[0m \u001b[0;31m#example of immutable\u001b[0m\u001b[0;34m\u001b[0m\u001b[0;34m\u001b[0m\u001b[0m\n\u001b[1;32m      6\u001b[0m \u001b[0ms\u001b[0m \u001b[0;34m=\u001b[0m \u001b[0;34m\"hello\"\u001b[0m\u001b[0;34m\u001b[0m\u001b[0;34m\u001b[0m\u001b[0m\n\u001b[0;32m----> 7\u001b[0;31m \u001b[0ms\u001b[0m\u001b[0;34m[\u001b[0m\u001b[0;36m0\u001b[0m\u001b[0;34m]\u001b[0m \u001b[0;34m=\u001b[0m \u001b[0;34m\"H\"\u001b[0m  \u001b[0;31m# Error: strings are immutable\u001b[0m\u001b[0;34m\u001b[0m\u001b[0;34m\u001b[0m\u001b[0m\n\u001b[0m\u001b[1;32m      8\u001b[0m \u001b[0;34m\u001b[0m\u001b[0m\n",
            "\u001b[0;31mTypeError\u001b[0m: 'str' object does not support item assignment"
          ]
        }
      ]
    },
    {
      "cell_type": "markdown",
      "source": [
        " 3. What are the main differences between lists and tuples in Python?\n",
        "\n",
        "   - Lists are mutable, slower, and usually used for dynamic data.\n",
        "\n",
        "   - Tuples are immutable, faster, and used for fixed data.\n",
        "      Example: list = [1, 2], tuple = (1, 2)"
      ],
      "metadata": {
        "id": "cQF_Cbql2xHt"
      }
    },
    {
      "cell_type": "markdown",
      "source": [
        " 4. Describe how dictionaries store data:\n",
        "\n",
        "\n",
        "  - Dictionaries store data as key-value pairs. Each key maps to a value, and keys must be unique and immutable."
      ],
      "metadata": {
        "id": "JKG4lwMV3OrY"
      }
    },
    {
      "cell_type": "code",
      "source": [
        "#example\n",
        "person = {\"name\": \"Alice\", \"age\": 25}\n"
      ],
      "metadata": {
        "id": "1ZHdaUVF3blU"
      },
      "execution_count": 3,
      "outputs": []
    },
    {
      "cell_type": "markdown",
      "source": [
        "5. Why might you use a set instead of a list in Python?\n",
        "\n",
        "\n",
        "   - Sets automatically remove duplicates and offer faster membership tests."
      ],
      "metadata": {
        "id": "Fy-qtQML3izu"
      }
    },
    {
      "cell_type": "code",
      "source": [
        "#examole\n",
        "set([1, 2, 2, 3])\n"
      ],
      "metadata": {
        "colab": {
          "base_uri": "https://localhost:8080/"
        },
        "id": "krEIV0uc3xPo",
        "outputId": "b3c1f783-0fc3-44b4-d6e2-5ab4de231852"
      },
      "execution_count": 4,
      "outputs": [
        {
          "output_type": "execute_result",
          "data": {
            "text/plain": [
              "{1, 2, 3}"
            ]
          },
          "metadata": {},
          "execution_count": 4
        }
      ]
    },
    {
      "cell_type": "markdown",
      "source": [
        "6. What is a string in Python, and how is it different from a list?\n",
        "\n",
        "\n",
        "  - A string is a sequence of characters and is immutable.\n",
        "  - A list is a sequence of items (any data type) and is mutable."
      ],
      "metadata": {
        "id": "v_LrILOR368c"
      }
    },
    {
      "cell_type": "code",
      "source": [
        "#example\n",
        "s = \"abc\"      # Immutable\n",
        "l = ['a', 'b'] # Mutable\n",
        "\n"
      ],
      "metadata": {
        "id": "rmHZjqaG4DeV"
      },
      "execution_count": 5,
      "outputs": []
    },
    {
      "cell_type": "markdown",
      "source": [
        "7.  How do tuples ensure data integrity in Python?\n",
        "\n",
        "\n",
        "   - Tuples are immutable, so once created, their contents can't be changed—useful for fixed collections like coordinates."
      ],
      "metadata": {
        "id": "1PqtdEk24aNO"
      }
    },
    {
      "cell_type": "markdown",
      "source": [
        "8. What is a hash table, and how does it relate to dictionaries in Python?\n",
        "\n",
        "  - A hash table stores data using a key’s hash value to determine the index. Python dictionaries are implemented using hash tables for fast lookups.\n",
        "\n",
        "\n"
      ],
      "metadata": {
        "id": "NT-3cb6S4pPs"
      }
    },
    {
      "cell_type": "code",
      "source": [
        "''' 9. Can lists contain different data types in Python?\n",
        "      ->> yes '''\n",
        "mixed = [1, \"hello\", True, 3.14]\n",
        "\n",
        "\n"
      ],
      "metadata": {
        "id": "jv1syaB_41kt"
      },
      "execution_count": 6,
      "outputs": []
    },
    {
      "cell_type": "markdown",
      "source": [
        "10. Explain why strings are immutable in Python:\n",
        "\n",
        "\n",
        "  - Immutability makes strings hashable, thread-safe, and memory efficient (shared across variables if unchanged).\n",
        "\n"
      ],
      "metadata": {
        "id": "Yj-konwB5X3A"
      }
    },
    {
      "cell_type": "markdown",
      "source": [
        "11. What advantages do dictionaries offer over lists for certain tasks?\n",
        "\n",
        "   - Faster lookups by key (O(1) average)\n",
        "\n",
        "   - Clear associations (key-value pairs)\n",
        "\n",
        "   - Ideal for representing structured data like JSON"
      ],
      "metadata": {
        "id": "Oonjwui75vF0"
      }
    },
    {
      "cell_type": "markdown",
      "source": [
        "12. Describe a scenario where using a tuple would be preferable over a list:\n",
        "\n",
        "\n",
        "   - Use a tuple when you want fixed data, like coordinates (x, y) or passing fixed arguments in functions.\n",
        "\n"
      ],
      "metadata": {
        "id": "UME4VXxB53CP"
      }
    },
    {
      "cell_type": "markdown",
      "source": [
        "13. How do sets handle duplicate values in Python?\n",
        "  \n",
        "\n",
        "   - They automatically remove duplicates.\n"
      ],
      "metadata": {
        "id": "GyDK2NsG5_vL"
      }
    },
    {
      "cell_type": "code",
      "source": [
        "#example\n",
        "set([1, 2, 2, 3])\n"
      ],
      "metadata": {
        "colab": {
          "base_uri": "https://localhost:8080/"
        },
        "id": "ysLif5GX6IqR",
        "outputId": "c96ed6cd-d203-4110-eed3-e98024eb05c1"
      },
      "execution_count": 7,
      "outputs": [
        {
          "output_type": "execute_result",
          "data": {
            "text/plain": [
              "{1, 2, 3}"
            ]
          },
          "metadata": {},
          "execution_count": 7
        }
      ]
    },
    {
      "cell_type": "markdown",
      "source": [
        "14. How does the in keyword work differently for lists and dictionaries?\n",
        "\n",
        "   - List: Checks if the value is present.\n",
        "\n",
        "   - Dict: Checks if the key is present."
      ],
      "metadata": {
        "id": "5aRpD3To6XRq"
      }
    },
    {
      "cell_type": "code",
      "source": [
        "#example\n",
        "2 in [1, 2, 3]\n",
        "'name' in {'name': 'Rahul'}\n"
      ],
      "metadata": {
        "colab": {
          "base_uri": "https://localhost:8080/"
        },
        "id": "j0aTA-yS6mT7",
        "outputId": "ad114afc-c2cb-4fcc-f878-fd7c1bdaa258"
      },
      "execution_count": 8,
      "outputs": [
        {
          "output_type": "execute_result",
          "data": {
            "text/plain": [
              "True"
            ]
          },
          "metadata": {},
          "execution_count": 8
        }
      ]
    },
    {
      "cell_type": "markdown",
      "source": [
        "15. Can you modify the elements of a tuple? Explain why or why not:\n",
        "\n",
        "\n",
        "   - No, because tuples are immutable. You cannot change, add, or remove elements after creation.\n",
        "\n",
        "\n"
      ],
      "metadata": {
        "id": "aNW5_DEA6_M8"
      }
    },
    {
      "cell_type": "markdown",
      "source": [
        "16. What is a nested dictionary, and give an example of its use case:\n",
        "\n",
        "\n",
        "   - A dictionary inside another dictionary. Used to store hierarchical data.\n",
        "\n",
        "\n",
        "\n"
      ],
      "metadata": {
        "id": "-Ox-Kit77EbK"
      }
    },
    {
      "cell_type": "code",
      "source": [
        "#example\n",
        "students = {\n",
        "  \"101\": {\"name\": \"Alice\", \"age\": 20},\n",
        "  \"102\": {\"name\": \"Bob\", \"age\": 21}\n",
        "}\n"
      ],
      "metadata": {
        "id": "3xrj3eN26qcq"
      },
      "execution_count": 9,
      "outputs": []
    },
    {
      "cell_type": "markdown",
      "source": [
        "17. Describe the time complexity of accessing elements in a dictionary:\n",
        "\n",
        "\n",
        "  - Average time complexity is O(1) due to hash table implementation.\n",
        "\n",
        "\n",
        "\n",
        "18. In what situations are lists preferred over dictionaries?\n",
        "\n",
        "   - When order matters\n",
        "\n",
        "   - When you don’t need key-value mapping\n",
        "\n",
        "   - For simple sequences like names, IDs, etc.\n",
        "\n",
        "\n",
        "\n",
        "19. Why are dictionaries considered unordered, and how does that affect data retrieval?\n",
        "\n",
        "   - Before Python 3.7, dictionaries didn’t preserve insertion order. From Python 3.7+, they do, but order isn’t their main purpose—fast access is. Retrieval is based on keys, not position.\n",
        "\n",
        "\n",
        "\n",
        "20. Explain the difference between a list and a dictionary in terms of data retrieval:\n",
        "\n",
        "\n",
        "  - List: Accessed by index (position), e.g., list[0]\n",
        "\n",
        "  - Dictionary: Accessed by key, e.g., dict['name']\n",
        "\n",
        "\n",
        "\n",
        "\n"
      ],
      "metadata": {
        "id": "7sIqF1Xh8I_z"
      }
    },
    {
      "cell_type": "markdown",
      "source": [
        "# Partical Question\n"
      ],
      "metadata": {
        "id": "BS_L3S6p8r7o"
      }
    },
    {
      "cell_type": "markdown",
      "source": [],
      "metadata": {
        "id": "kqXuDCiraELw"
      }
    },
    {
      "cell_type": "code",
      "source": [
        "#1. Create a string with your name and print it:\n",
        "name = \"Rahul\"\n",
        "print(name)\n",
        "\n"
      ],
      "metadata": {
        "colab": {
          "base_uri": "https://localhost:8080/"
        },
        "id": "Lh2Wz-eGaIWu",
        "outputId": "0925eea2-ade0-45a7-8ee1-9fc16523affe"
      },
      "execution_count": 10,
      "outputs": [
        {
          "output_type": "stream",
          "name": "stdout",
          "text": [
            "Rahul\n"
          ]
        }
      ]
    },
    {
      "cell_type": "code",
      "source": [
        "#2. Find the length of the string \"Hello World\":\n",
        "\n",
        "string = \"Hello World\"\n",
        "length = len(string)\n",
        "print(length)"
      ],
      "metadata": {
        "colab": {
          "base_uri": "https://localhost:8080/"
        },
        "id": "XBegpwgkaSPg",
        "outputId": "ef455c32-2441-45d7-c8d0-4773878017d6"
      },
      "execution_count": 11,
      "outputs": [
        {
          "output_type": "stream",
          "name": "stdout",
          "text": [
            "11\n"
          ]
        }
      ]
    },
    {
      "cell_type": "code",
      "source": [
        "#3. Slice the first 3 characters from the string \"Python Programming\":\n",
        "text = \"Python Programming\"\n",
        "print(text[:3])\n",
        "\n"
      ],
      "metadata": {
        "colab": {
          "base_uri": "https://localhost:8080/"
        },
        "id": "3mBLhHMrafUi",
        "outputId": "e1e3932b-3c39-4bb4-ae8b-4b43b1285905"
      },
      "execution_count": 12,
      "outputs": [
        {
          "output_type": "stream",
          "name": "stdout",
          "text": [
            "Pyt\n"
          ]
        }
      ]
    },
    {
      "cell_type": "code",
      "source": [
        "#4. Convert the string \"hello\" to uppercase:\n",
        "word = \"hello\"\n",
        "print(word.upper())\n"
      ],
      "metadata": {
        "colab": {
          "base_uri": "https://localhost:8080/"
        },
        "id": "oHWRRwnsauTn",
        "outputId": "f7e43935-76ac-47d5-8fc4-d5cafd42e4dd"
      },
      "execution_count": 13,
      "outputs": [
        {
          "output_type": "stream",
          "name": "stdout",
          "text": [
            "HELLO\n"
          ]
        }
      ]
    },
    {
      "cell_type": "code",
      "source": [
        "#5. Replace the word \"apple\" with \"orange\" in the string \"I like apple\":\n",
        "sentence = \"I like apple\"\n",
        "print(sentence.replace(\"apple\", \"orange\"))\n",
        "\n"
      ],
      "metadata": {
        "colab": {
          "base_uri": "https://localhost:8080/"
        },
        "id": "wNmNEyGra6Uq",
        "outputId": "88b0d2d6-b402-4873-a095-7f3c2cb17315"
      },
      "execution_count": 14,
      "outputs": [
        {
          "output_type": "stream",
          "name": "stdout",
          "text": [
            "I like orange\n"
          ]
        }
      ]
    },
    {
      "cell_type": "code",
      "source": [
        "#6. Create a list with numbers 1 to 5 and print it:\n",
        "numbers = [1, 2, 3, 4, 5]\n",
        "print(numbers)\n",
        "\n"
      ],
      "metadata": {
        "colab": {
          "base_uri": "https://localhost:8080/"
        },
        "id": "UKnbJAmtbD1l",
        "outputId": "23ddd4f5-37c6-4d96-f6fa-50dd02509136"
      },
      "execution_count": 16,
      "outputs": [
        {
          "output_type": "stream",
          "name": "stdout",
          "text": [
            "[1, 2, 3, 4, 5]\n"
          ]
        }
      ]
    },
    {
      "cell_type": "code",
      "source": [
        "#7. Append the number 10 to the list [1, 2, 3, 4]:\n",
        "lst = [1, 2, 3, 4]\n",
        "lst.append(10)\n",
        "print(lst)\n",
        "\n"
      ],
      "metadata": {
        "colab": {
          "base_uri": "https://localhost:8080/"
        },
        "id": "VBrVdirKbKa7",
        "outputId": "37dbd392-631d-4e95-cd45-a1cc049f421e"
      },
      "execution_count": 17,
      "outputs": [
        {
          "output_type": "stream",
          "name": "stdout",
          "text": [
            "[1, 2, 3, 4, 10]\n"
          ]
        }
      ]
    },
    {
      "cell_type": "code",
      "source": [
        "#8. Remove the number 3 from the list [1, 2, 3, 4, 5]:\n",
        "\n",
        "lst = [1, 2, 3, 4, 5]\n",
        "lst.remove(3)\n",
        "print(lst)\n"
      ],
      "metadata": {
        "colab": {
          "base_uri": "https://localhost:8080/"
        },
        "id": "Pk0iSBUTbp4o",
        "outputId": "69ec8a8c-0cf0-4109-a9e1-e783d995664d"
      },
      "execution_count": 18,
      "outputs": [
        {
          "output_type": "stream",
          "name": "stdout",
          "text": [
            "[1, 2, 4, 5]\n"
          ]
        }
      ]
    },
    {
      "cell_type": "code",
      "source": [
        "#9. Access the second element in the list ['a', 'b', 'c', 'd']:\n",
        "chars = ['a', 'b', 'c', 'd']\n",
        "print(chars[1])\n"
      ],
      "metadata": {
        "colab": {
          "base_uri": "https://localhost:8080/"
        },
        "id": "DnENr0qeb031",
        "outputId": "cec780be-2ed4-4a28-ee9b-697b77578fd1"
      },
      "execution_count": 19,
      "outputs": [
        {
          "output_type": "stream",
          "name": "stdout",
          "text": [
            "b\n"
          ]
        }
      ]
    },
    {
      "cell_type": "code",
      "source": [
        "#10. Reverse the list [10, 20, 30, 40, 50]:\n",
        "lst = [10, 20, 30, 40, 50]\n",
        "lst.reverse()\n",
        "print(lst)\n",
        "\n"
      ],
      "metadata": {
        "colab": {
          "base_uri": "https://localhost:8080/"
        },
        "id": "g44HY1ufb-OR",
        "outputId": "b10cfbf0-eddc-46f0-abd3-0dcb4de7b7cd"
      },
      "execution_count": 20,
      "outputs": [
        {
          "output_type": "stream",
          "name": "stdout",
          "text": [
            "[50, 40, 30, 20, 10]\n"
          ]
        }
      ]
    },
    {
      "cell_type": "code",
      "source": [
        "#11. Create a tuple with the elements 100, 200, 300 and print it:\n",
        "\n",
        "numbers = (100, 200, 300)\n",
        "print(numbers)\n"
      ],
      "metadata": {
        "colab": {
          "base_uri": "https://localhost:8080/"
        },
        "id": "UfvGDRc_cLQ6",
        "outputId": "8f243fcd-fe45-48d7-a332-244e09e5c472"
      },
      "execution_count": 21,
      "outputs": [
        {
          "output_type": "stream",
          "name": "stdout",
          "text": [
            "(100, 200, 300)\n"
          ]
        }
      ]
    },
    {
      "cell_type": "code",
      "source": [
        "#12. Access the second-to-last element of the tuple ('red', 'green', 'blue', 'yellow'):\n",
        "colors = ('red', 'green', 'blue', 'yellow')\n",
        "print(colors[-2])\n"
      ],
      "metadata": {
        "colab": {
          "base_uri": "https://localhost:8080/"
        },
        "id": "F4uEPU-ncx2O",
        "outputId": "2db1e2f7-bc50-4e4d-9420-d1540370ae7a"
      },
      "execution_count": 22,
      "outputs": [
        {
          "output_type": "stream",
          "name": "stdout",
          "text": [
            "blue\n"
          ]
        }
      ]
    },
    {
      "cell_type": "code",
      "source": [
        "#13. Find the minimum number in the tuple (10, 20, 5, 15):\n",
        "numbers = (10, 20, 5, 15)\n",
        "print(min(numbers))\n"
      ],
      "metadata": {
        "colab": {
          "base_uri": "https://localhost:8080/"
        },
        "id": "gCQsoJ0fc9Gj",
        "outputId": "5b92be28-359f-4c83-cca3-0c7272f059c3"
      },
      "execution_count": 23,
      "outputs": [
        {
          "output_type": "stream",
          "name": "stdout",
          "text": [
            "5\n"
          ]
        }
      ]
    },
    {
      "cell_type": "code",
      "source": [
        "#14. Find the index of the element \"cat\" in the tuple ('dog', 'cat', 'rabbit'):\n",
        "animals = ('dog', 'cat', 'rabbit')\n",
        "print(animals.index('cat'))\n",
        "\n"
      ],
      "metadata": {
        "colab": {
          "base_uri": "https://localhost:8080/"
        },
        "id": "wXyYfl9vdMa6",
        "outputId": "dcc1200d-7268-40b2-a3c9-c8476163f199"
      },
      "execution_count": 24,
      "outputs": [
        {
          "output_type": "stream",
          "name": "stdout",
          "text": [
            "1\n"
          ]
        }
      ]
    },
    {
      "cell_type": "code",
      "source": [
        "#15. Create a tuple with 3 fruits and check if \"kiwi\" is in it:\n",
        "fruits = ('apple', 'banana', 'cherry')\n",
        "print('kiwi' in fruits)"
      ],
      "metadata": {
        "colab": {
          "base_uri": "https://localhost:8080/"
        },
        "id": "iJR7zrjndXY4",
        "outputId": "8c137d09-9b5b-4cf6-f2d0-84542ad0802d"
      },
      "execution_count": 26,
      "outputs": [
        {
          "output_type": "stream",
          "name": "stdout",
          "text": [
            "False\n"
          ]
        }
      ]
    },
    {
      "cell_type": "code",
      "source": [
        "#16. Create a set with elements 'a', 'b', 'c' and print it:\n",
        "\n",
        "letters = {'a', 'b', 'c'}\n",
        "print(letters)\n",
        "\n"
      ],
      "metadata": {
        "colab": {
          "base_uri": "https://localhost:8080/"
        },
        "id": "0MTUlUepdd-2",
        "outputId": "f78a829f-3c4c-4532-8419-7180e6c1f50e"
      },
      "execution_count": 27,
      "outputs": [
        {
          "output_type": "stream",
          "name": "stdout",
          "text": [
            "{'c', 'b', 'a'}\n"
          ]
        }
      ]
    },
    {
      "cell_type": "code",
      "source": [
        "#17. Clear all elements from the set {1, 2, 3, 4, 5}:\n",
        "s = {1, 2, 3, 4, 5}\n",
        "s.clear()\n",
        "print(s)\n"
      ],
      "metadata": {
        "colab": {
          "base_uri": "https://localhost:8080/"
        },
        "id": "CN7GoUQmdqM-",
        "outputId": "4b9debf0-62d5-4519-ddc9-3951f90e688c"
      },
      "execution_count": 28,
      "outputs": [
        {
          "output_type": "stream",
          "name": "stdout",
          "text": [
            "set()\n"
          ]
        }
      ]
    },
    {
      "cell_type": "code",
      "source": [
        "#18. Remove the element 4 from the set {1, 2, 3, 4}:\n",
        "s = {1, 2, 3, 4}\n",
        "s.remove(4)\n",
        "print(s)\n"
      ],
      "metadata": {
        "colab": {
          "base_uri": "https://localhost:8080/"
        },
        "id": "ChU98x0zdzZG",
        "outputId": "8479cbb0-c094-4a0d-9a57-cf7b653693f7"
      },
      "execution_count": 29,
      "outputs": [
        {
          "output_type": "stream",
          "name": "stdout",
          "text": [
            "{1, 2, 3}\n"
          ]
        }
      ]
    },
    {
      "cell_type": "code",
      "source": [
        "#19. Find the union of sets {1, 2, 3} and {3, 4, 5}:\n",
        "a = {1, 2, 3}\n",
        "b = {3, 4, 5}\n",
        "print(a.union(b))\n",
        "\n"
      ],
      "metadata": {
        "colab": {
          "base_uri": "https://localhost:8080/"
        },
        "id": "UPV37PA8d59O",
        "outputId": "64a68dde-e06e-464c-d6c8-7c3cb346df55"
      },
      "execution_count": 30,
      "outputs": [
        {
          "output_type": "stream",
          "name": "stdout",
          "text": [
            "{1, 2, 3, 4, 5}\n"
          ]
        }
      ]
    },
    {
      "cell_type": "code",
      "source": [
        "#20. Find the intersection of sets {1, 2, 3} and {2, 3, 4}:\n",
        "\n",
        "a = {1, 2, 3}\n",
        "b = {2, 3, 4}\n",
        "print(a.intersection(b))\n"
      ],
      "metadata": {
        "colab": {
          "base_uri": "https://localhost:8080/"
        },
        "id": "EjHTGJPjeIJ-",
        "outputId": "1927f102-70db-46c5-cae1-25ce3d3151ec"
      },
      "execution_count": 31,
      "outputs": [
        {
          "output_type": "stream",
          "name": "stdout",
          "text": [
            "{2, 3}\n"
          ]
        }
      ]
    },
    {
      "cell_type": "code",
      "source": [
        "#21. Create a dictionary with keys \"name\", \"age\", and \"city\" and print it:\n",
        "\n",
        "person = {\"name\": \"Alice\", \"age\": 25, \"city\": \"New York\"}\n",
        "print(person)"
      ],
      "metadata": {
        "colab": {
          "base_uri": "https://localhost:8080/"
        },
        "id": "JYV_k8u6eXJn",
        "outputId": "af9ded86-0c9f-4253-f14f-d3e12b036fa2"
      },
      "execution_count": 32,
      "outputs": [
        {
          "output_type": "stream",
          "name": "stdout",
          "text": [
            "{'name': 'Alice', 'age': 25, 'city': 'New York'}\n"
          ]
        }
      ]
    },
    {
      "cell_type": "code",
      "source": [
        "#22. Add \"country\": \"USA\" to {'name': 'John', 'age': 25}:\n",
        "\n",
        "person = {'name': 'John', 'age': 25}\n",
        "person['country'] = 'USA'\n",
        "print(person)\n"
      ],
      "metadata": {
        "colab": {
          "base_uri": "https://localhost:8080/"
        },
        "id": "EU38P00vei5F",
        "outputId": "de2e2be1-c1d5-430b-b152-6306f3e3e6b7"
      },
      "execution_count": 33,
      "outputs": [
        {
          "output_type": "stream",
          "name": "stdout",
          "text": [
            "{'name': 'John', 'age': 25, 'country': 'USA'}\n"
          ]
        }
      ]
    },
    {
      "cell_type": "code",
      "source": [
        "#23. Access value of \"name\" in {'name': 'Alice', 'age': 30}:\n",
        "person = {'name': 'Alice', 'age': 30}\n",
        "print(person['name'])\n"
      ],
      "metadata": {
        "colab": {
          "base_uri": "https://localhost:8080/"
        },
        "id": "fGoMI0F1esq4",
        "outputId": "76c43112-91d3-4a6f-ed10-610d8901ef39"
      },
      "execution_count": 34,
      "outputs": [
        {
          "output_type": "stream",
          "name": "stdout",
          "text": [
            "Alice\n"
          ]
        }
      ]
    },
    {
      "cell_type": "code",
      "source": [
        "#24. Remove the key \"age\" from {'name': 'Bob', 'age': 22, 'city': 'New York'}:\n",
        "person = {'name': 'Bob', 'age': 22, 'city': 'New York'}\n",
        "del person['age']\n",
        "print(person)\n"
      ],
      "metadata": {
        "colab": {
          "base_uri": "https://localhost:8080/"
        },
        "id": "Rs9nXfTLe4rp",
        "outputId": "3c7cefd6-022d-4e10-c84c-6c12d6d02eca"
      },
      "execution_count": 35,
      "outputs": [
        {
          "output_type": "stream",
          "name": "stdout",
          "text": [
            "{'name': 'Bob', 'city': 'New York'}\n"
          ]
        }
      ]
    },
    {
      "cell_type": "code",
      "source": [
        "#25. Check if \"city\" exists in {'name': 'Alice', 'city': 'Paris'}:\n",
        "person = {'name': 'Alice', 'city': 'Paris'}\n",
        "print('city' in person)\n"
      ],
      "metadata": {
        "colab": {
          "base_uri": "https://localhost:8080/"
        },
        "id": "tCB2LMStfCfi",
        "outputId": "71bc074d-346c-40fc-d0e9-bec92e423f87"
      },
      "execution_count": 36,
      "outputs": [
        {
          "output_type": "stream",
          "name": "stdout",
          "text": [
            "True\n"
          ]
        }
      ]
    },
    {
      "cell_type": "code",
      "source": [
        "#26. Create a list, tuple, and dictionary, and print all:\n",
        "lst = [1, 2, 3]\n",
        "tup = (4, 5, 6)\n",
        "dic = {\"a\": 7, \"b\": 8}\n",
        "print(lst, tup, dic)\n",
        "\n"
      ],
      "metadata": {
        "colab": {
          "base_uri": "https://localhost:8080/"
        },
        "id": "4bDeZEdPfVnE",
        "outputId": "8cafebea-7c40-48ca-cbf4-434742fafa58"
      },
      "execution_count": 37,
      "outputs": [
        {
          "output_type": "stream",
          "name": "stdout",
          "text": [
            "[1, 2, 3] (4, 5, 6) {'a': 7, 'b': 8}\n"
          ]
        }
      ]
    },
    {
      "cell_type": "code",
      "source": [
        "#27. Create a list of 5 random numbers (1–100), sort, and print:\n",
        "import random\n",
        "\n",
        "numbers = [random.randint(1, 100) for _ in range(5)]\n",
        "numbers.sort()\n",
        "print(numbers)"
      ],
      "metadata": {
        "colab": {
          "base_uri": "https://localhost:8080/"
        },
        "id": "hk8yaOKvfe25",
        "outputId": "9a6e0a3b-ec15-427b-b3ab-f4b44c5f217f"
      },
      "execution_count": 38,
      "outputs": [
        {
          "output_type": "stream",
          "name": "stdout",
          "text": [
            "[47, 57, 69, 85, 86]\n"
          ]
        }
      ]
    },
    {
      "cell_type": "code",
      "source": [
        "#28. Create a list with strings and print the element at index 3:\n",
        "lst = [\"apple\", \"banana\", \"cherry\", \"date\"]\n",
        "print(lst[3])"
      ],
      "metadata": {
        "colab": {
          "base_uri": "https://localhost:8080/"
        },
        "id": "5jbUVR32fmHv",
        "outputId": "d436cbe2-801c-45ef-ee20-b8a7d8604e2b"
      },
      "execution_count": 39,
      "outputs": [
        {
          "output_type": "stream",
          "name": "stdout",
          "text": [
            "date\n"
          ]
        }
      ]
    },
    {
      "cell_type": "code",
      "source": [
        "#29. Combine two dictionaries and print the result:\n",
        "dict1 = {\"a\": 1, \"b\": 2}\n",
        "dict2 = {\"c\": 3, \"d\": 4}\n",
        "combined = {**dict1, **dict2}\n",
        "print(combined)\n"
      ],
      "metadata": {
        "colab": {
          "base_uri": "https://localhost:8080/"
        },
        "id": "UsjKRP7mfthg",
        "outputId": "541ee5fd-4bbf-4e57-e990-decc1de62072"
      },
      "execution_count": 40,
      "outputs": [
        {
          "output_type": "stream",
          "name": "stdout",
          "text": [
            "{'a': 1, 'b': 2, 'c': 3, 'd': 4}\n"
          ]
        }
      ]
    },
    {
      "cell_type": "code",
      "source": [
        "#30. Convert a list of strings into a set:\n",
        "str_list = [\"apple\", \"banana\", \"apple\", \"cherry\"]\n",
        "str_set = set(str_list)\n",
        "print(str_set)\n",
        "\n"
      ],
      "metadata": {
        "colab": {
          "base_uri": "https://localhost:8080/"
        },
        "id": "hioATZ8of4d9",
        "outputId": "f82926dc-3cef-4bdf-b99d-90f6e0ef8982"
      },
      "execution_count": 41,
      "outputs": [
        {
          "output_type": "stream",
          "name": "stdout",
          "text": [
            "{'banana', 'cherry', 'apple'}\n"
          ]
        }
      ]
    }
  ]
}